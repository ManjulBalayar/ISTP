{
 "cells": [
  {
   "cell_type": "code",
   "execution_count": null,
   "metadata": {},
   "outputs": [],
   "source": [
    "# import all libs (do not change)\n",
    "from pymongo import MongoClient\n",
    "from pymongo.mongo_client import MongoClient\n",
    "from pymongo.server_api import ServerApi\n",
    "import json\n",
    "import pymongo\n",
    "import pprint\n",
    "import nbformat\n",
    "from nbconvert.preprocessors import ExecutePreprocessor"
   ]
  },
  {
   "cell_type": "code",
   "execution_count": null,
   "metadata": {},
   "outputs": [],
   "source": [
    "# fill in uri (5pts)\n",
    "uri = \n",
    "# Create a new client and connect to the server\n",
    "client = MongoClient(uri, server_api=ServerApi('1'))\n",
    "# Send a ping to confirm a successful connection\n",
    "try:\n",
    "    capture = client.admin.command('ping')\n",
    "    print(\"Pinged your deployment. You successfully connected to MongoDB!\", capture)\n",
    "except Exception as e:\n",
    "    print(e)"
   ]
  },
  {
   "cell_type": "code",
   "execution_count": null,
   "metadata": {},
   "outputs": [],
   "source": [
    "# database (do not change)\n",
    "db = client['test']\n",
    "if 'litcovidtest' in db.list_collection_names():\n",
    "    db['litcovidtest'].drop() \n",
    "posts = db['litcovidtest'] "
   ]
  },
  {
   "cell_type": "code",
   "execution_count": null,
   "metadata": {},
   "outputs": [],
   "source": [
    "# Loading or Opening the json file\n",
    "with open('litcovid2BioCJSON_small.json') as file:\n",
    "    file_data = json.load(file)\n",
    "     \n",
    "# Inserting the loaded data in the Collection\n",
    "# if JSON contains data more than one entry\n",
    "# insert_many is used else inser_one is used\n",
    "# fill in (5 pts)\n",
    "\n"
   ]
  },
  {
   "cell_type": "code",
   "execution_count": null,
   "metadata": {},
   "outputs": [],
   "source": [
    "# Count the number of documents in this corpus\n",
    "# fill in (10 pts)\n",
    "result1=\n",
    "print(\"Count the number of documents in this corpus\", result1)"
   ]
  },
  {
   "cell_type": "code",
   "execution_count": null,
   "metadata": {},
   "outputs": [],
   "source": [
    "# find the fields for the first document in this corpus\n",
    "# fill in (10 pts)\n",
    "result2=\n",
    "pprint.pprint(result2)"
   ]
  },
  {
   "cell_type": "code",
   "execution_count": null,
   "metadata": {},
   "outputs": [],
   "source": [
    "# Count the number of publications for each journal. Sort the result in descending order and print top 10\n",
    "# fill in (10 pts)\n",
    "result3=\n",
    "for post in result3:\n",
    "    pprint.pprint(post)"
   ]
  },
  {
   "cell_type": "code",
   "execution_count": null,
   "metadata": {},
   "outputs": [],
   "source": [
    "# Find all papers published in Nature journal. Print their pmids and titles\n",
    "# fill in (10 pts)\n",
    "result4 = \n",
    "for post in result4:\n",
    "    pprint.pprint(post['pmid'])\n",
    "    pprint.pprint(post['passages'][0]['text'])"
   ]
  },
  {
   "cell_type": "code",
   "execution_count": null,
   "metadata": {},
   "outputs": [],
   "source": [
    "# Count the number of publications for each author. Sort the results in descending order and return the top 10 authors\n",
    "# fill in (10 pts)\n",
    "result5= \n",
    "for post in result5:\n",
    "    pprint.pprint(post)"
   ]
  },
  {
   "cell_type": "code",
   "execution_count": null,
   "metadata": {},
   "outputs": [],
   "source": [
    "# Find the papers written by ‘Wang J’, print the paper pmids, journal names and titles\n",
    "# fill in (10 pts)\n",
    "result6=\n",
    "for post in result6:\n",
    "    pprint.pprint(post['pmid'])\n",
    "    pprint.pprint(post['journal'])\n",
    "    pprint.pprint(post['passages'][0]['text'])"
   ]
  },
  {
   "cell_type": "code",
   "execution_count": null,
   "metadata": {},
   "outputs": [],
   "source": [
    "# Create text index on passages.text\n",
    "# fill in\n",
    "posts.create_index(\n",
    "    [    ]\n",
    ")"
   ]
  },
  {
   "cell_type": "code",
   "execution_count": null,
   "metadata": {},
   "outputs": [],
   "source": [
    "# count the number of publications that contains the phrase \"COVID-19 Vaccine\"\n",
    "# fill in (10 pts)\n",
    "result7=\n",
    "print(\"Count the number of publications that contains the phrase 'COVID-19 Vaccine'\", result7)"
   ]
  },
  {
   "cell_type": "code",
   "execution_count": null,
   "metadata": {},
   "outputs": [],
   "source": [
    "# count the number of publications that contains the words \"COVID-19\" or \"Vaccine\"\n",
    "# fill in (10 pts)\n",
    "result8=\n",
    "print(\"Count the number of publications that contains the words 'COVID-19' or 'Vaccine'\", result8)"
   ]
  },
  {
   "cell_type": "code",
   "execution_count": null,
   "metadata": {},
   "outputs": [],
   "source": [
    "# count the number of publications that contains the words \"COVID-19\" and \"Vaccine\"\n",
    "# fill in (10 pts)\n",
    "result9=\n",
    "print(\"Count the number of publications that contains the words 'COVID-19' and 'Vaccine'\", result9)"
   ]
  }
 ],
 "metadata": {
  "kernelspec": {
   "display_name": "Python 3",
   "language": "python",
   "name": "python3"
  },
  "language_info": {
   "codemirror_mode": {
    "name": "ipython",
    "version": 3
   },
   "file_extension": ".py",
   "mimetype": "text/x-python",
   "name": "python",
   "nbconvert_exporter": "python",
   "pygments_lexer": "ipython3",
   "version": "3.7.3"
  }
 },
 "nbformat": 4,
 "nbformat_minor": 2
}
